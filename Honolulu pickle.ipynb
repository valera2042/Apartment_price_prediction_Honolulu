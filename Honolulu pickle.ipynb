{
 "cells": [
  {
   "cell_type": "code",
   "execution_count": 1,
   "metadata": {},
   "outputs": [],
   "source": [
    "import pandas as pd\n",
    "import numpy as np\n",
    "from sklearn.model_selection import train_test_split"
   ]
  },
  {
   "cell_type": "code",
   "execution_count": 2,
   "metadata": {},
   "outputs": [],
   "source": [
    "df = pd.read_csv(r'C:\\Users\\valer\\OneDrive\\Desktop\\Python - Copy\\Honolulu.xlsx')"
   ]
  },
  {
   "cell_type": "code",
   "execution_count": 3,
   "metadata": {},
   "outputs": [],
   "source": [
    "def droppping_columns(df):\n",
    "    \n",
    "    # drop the first column\n",
    "    df.drop(columns = ['Unnamed: 0'], inplace = True)\n",
    "    return df\n",
    "\n",
    "\n",
    "\n",
    "def get_area(df):\n",
    "    \n",
    "    # create an empty column\n",
    "    df['n_area'] = 0\n",
    "    \n",
    "    #iterate across the indices\n",
    "    for i in range(df.shape[0]):\n",
    "        # get the 2nd number from the end \n",
    "        area = df['area'][i].split()[-2]\n",
    "        df['n_area'][i] = area\n",
    "    \n",
    "    # extract the digit frim digit(ft2) str\n",
    "    df['n_area'] = df['n_area'].str.extract('(\\d+)')\n",
    "        \n",
    "    return df['n_area']\n",
    "\n",
    "\n",
    "def number_bedrooms(df):\n",
    "    \n",
    "    # extract the number of bedrooms that stay before letter 'br'\n",
    "    df['n_bedrooms'] = df['area'].str.extract('(\\d+)br')\n",
    "    \n",
    "    return df['n_bedrooms']\n",
    "\n",
    "def price_num(df):\n",
    "    \n",
    "    # replace the unnecessary symbols by empty space\n",
    "    df['n_price'] = df['price'].str.replace('$','').str.replace(',','')\n",
    "    \n",
    "    return df['n_price']\n",
    "\n",
    "# looking for a beach\n",
    "\n",
    "def a_beach(df):\n",
    "    \n",
    "    # create a list of words to be found\n",
    "    find = 'beach'\n",
    "    # get the False or True of the string that has Beach or beach in it\n",
    "    df['beach_availability'] = df['info'].str.contains('beach', flags=re.IGNORECASE, regex=True) \n",
    "    \n",
    "    return df['beach_availability']\n",
    "\n",
    "\n",
    "# get the date of the post_date\n",
    "\n",
    "def get_a_day(df):\n",
    "    \n",
    "    # split the post_date by dash and extract the last values (days)\n",
    "    df['day_posted'] = df['post_date'].apply(lambda x: x.split('-')[-1])\n",
    "    \n",
    "    return  df['day_posted']\n",
    "\n",
    "\n",
    "def day_available(df):\n",
    "    \n",
    "    # extract the last two digits from the string\n",
    "    df['day_available'] = df['add_info'].str.extract('(\\s+)[a-zA-Z]{3,}(\\s+)(\\d+)')[2]\n",
    "    \n",
    "    return df['day_available']\n",
    "\n",
    "\n",
    "# sooner available the more expensive it is\n",
    "\n",
    "\n",
    "def n_bathrooms(df):\n",
    "    \n",
    "    # get the number preceeds 'Ba'\n",
    "    df['n_bathrooms'] = df['add_info'].str.extract('(\\d+)Ba')\n",
    "    \n",
    "    return df['n_bathrooms'] \n",
    "    \n",
    "def get_coordinates(df):\n",
    "    \n",
    "    # get the last two values from a string\n",
    "    df['geo_coordinates'] = df['coordinates'].apply(lambda x: x.split('/')[-1])\n",
    "    \n",
    "    return df['geo_coordinates']\n",
    "\n",
    "\n",
    "\n",
    "def smoking(df):\n",
    "    \n",
    "    # create a list of words to be found\n",
    "    smoke = ['smoking']\n",
    "    #yes for smokers and no for non-smoking rooms\n",
    "    df['smoking'] = df['allowed'].apply(lambda x: 'True' if x in smoke else 'False').astype(bool)\n",
    "    \n",
    "    \n",
    "    return df['smoking']\n",
    "\n",
    "\n",
    "def main(df):\n",
    "    df = droppping_columns(df)\n",
    "    df['n_area'] = get_area(df)\n",
    "    df['n_bedrooms'] = number_bedrooms(df)\n",
    "    df['n_price'] = price_num(df)\n",
    "    df['beach_availability'] = a_beach(df)\n",
    "    df['day_posted'] = get_a_day(df)\n",
    "    df['day_available'] = day_available(df)\n",
    "    df['n_bathrooms'] = n_bathrooms(df)\n",
    "    df['geo_coordinates'] = get_coordinates(df)\n",
    "    df['smoking'] = smoking(df)\n",
    "    \n",
    "    return df\n",
    "    "
   ]
  },
  {
   "cell_type": "code",
   "execution_count": 4,
   "metadata": {},
   "outputs": [
    {
     "name": "stderr",
     "output_type": "stream",
     "text": [
      "<ipython-input-3-cf369745f773>:18: SettingWithCopyWarning: \n",
      "A value is trying to be set on a copy of a slice from a DataFrame\n",
      "\n",
      "See the caveats in the documentation: http://pandas.pydata.org/pandas-docs/stable/user_guide/indexing.html#returning-a-view-versus-a-copy\n",
      "  df['n_area'][i] = area\n",
      "C:\\Users\\valer\\anaconda3\\lib\\site-packages\\pandas\\core\\indexing.py:205: SettingWithCopyWarning: \n",
      "A value is trying to be set on a copy of a slice from a DataFrame\n",
      "\n",
      "See the caveats in the documentation: http://pandas.pydata.org/pandas-docs/stable/user_guide/indexing.html#returning-a-view-versus-a-copy\n",
      "  self._setitem_with_indexer(indexer, value)\n"
     ]
    },
    {
     "data": {
      "application/javascript": [
       "\n",
       "        if (window._pyforest_update_imports_cell) { window._pyforest_update_imports_cell('import re'); }\n",
       "    "
      ],
      "text/plain": [
       "<IPython.core.display.Javascript object>"
      ]
     },
     "metadata": {},
     "output_type": "display_data"
    }
   ],
   "source": [
    "df_cleaned = main(df)"
   ]
  },
  {
   "cell_type": "code",
   "execution_count": 5,
   "metadata": {},
   "outputs": [],
   "source": [
    "def drop_unnecessary_columns(df):\n",
    "    # drop unmodified columns\n",
    "    df = df.iloc[:, 9:]\n",
    "    return df "
   ]
  },
  {
   "cell_type": "code",
   "execution_count": 6,
   "metadata": {},
   "outputs": [
    {
     "data": {
      "text/html": [
       "<div>\n",
       "<style scoped>\n",
       "    .dataframe tbody tr th:only-of-type {\n",
       "        vertical-align: middle;\n",
       "    }\n",
       "\n",
       "    .dataframe tbody tr th {\n",
       "        vertical-align: top;\n",
       "    }\n",
       "\n",
       "    .dataframe thead th {\n",
       "        text-align: right;\n",
       "    }\n",
       "</style>\n",
       "<table border=\"1\" class=\"dataframe\">\n",
       "  <thead>\n",
       "    <tr style=\"text-align: right;\">\n",
       "      <th></th>\n",
       "      <th>n_area</th>\n",
       "      <th>n_bedrooms</th>\n",
       "      <th>n_price</th>\n",
       "      <th>beach_availability</th>\n",
       "      <th>day_posted</th>\n",
       "      <th>day_available</th>\n",
       "      <th>n_bathrooms</th>\n",
       "      <th>geo_coordinates</th>\n",
       "      <th>smoking</th>\n",
       "    </tr>\n",
       "  </thead>\n",
       "  <tbody>\n",
       "    <tr>\n",
       "      <th>0</th>\n",
       "      <td>800</td>\n",
       "      <td>NaN</td>\n",
       "      <td>1950</td>\n",
       "      <td>True</td>\n",
       "      <td>16</td>\n",
       "      <td>NaN</td>\n",
       "      <td>1</td>\n",
       "      <td>[]</td>\n",
       "      <td>True</td>\n",
       "    </tr>\n",
       "    <tr>\n",
       "      <th>1</th>\n",
       "      <td>480</td>\n",
       "      <td>1</td>\n",
       "      <td>1520</td>\n",
       "      <td>False</td>\n",
       "      <td>19</td>\n",
       "      <td>19</td>\n",
       "      <td>1</td>\n",
       "      <td>21.287535,-157.820367</td>\n",
       "      <td>True</td>\n",
       "    </tr>\n",
       "    <tr>\n",
       "      <th>2</th>\n",
       "      <td>380</td>\n",
       "      <td>NaN</td>\n",
       "      <td>1500</td>\n",
       "      <td>True</td>\n",
       "      <td>30</td>\n",
       "      <td>30</td>\n",
       "      <td>1</td>\n",
       "      <td>21.286107,-157.838986</td>\n",
       "      <td>True</td>\n",
       "    </tr>\n",
       "    <tr>\n",
       "      <th>3</th>\n",
       "      <td>400</td>\n",
       "      <td>1</td>\n",
       "      <td>1380</td>\n",
       "      <td>False</td>\n",
       "      <td>24</td>\n",
       "      <td>NaN</td>\n",
       "      <td>1</td>\n",
       "      <td>[]</td>\n",
       "      <td>True</td>\n",
       "    </tr>\n",
       "    <tr>\n",
       "      <th>4</th>\n",
       "      <td>650</td>\n",
       "      <td>1</td>\n",
       "      <td>1025</td>\n",
       "      <td>False</td>\n",
       "      <td>24</td>\n",
       "      <td>24</td>\n",
       "      <td>1</td>\n",
       "      <td>[]</td>\n",
       "      <td>True</td>\n",
       "    </tr>\n",
       "  </tbody>\n",
       "</table>\n",
       "</div>"
      ],
      "text/plain": [
       "  n_area n_bedrooms n_price  beach_availability day_posted day_available  \\\n",
       "0    800        NaN    1950                True         16           NaN   \n",
       "1    480          1    1520               False         19            19   \n",
       "2    380        NaN    1500                True         30            30   \n",
       "3    400          1    1380               False         24           NaN   \n",
       "4    650          1    1025               False         24            24   \n",
       "\n",
       "  n_bathrooms        geo_coordinates  smoking  \n",
       "0           1                     []     True  \n",
       "1           1  21.287535,-157.820367     True  \n",
       "2           1  21.286107,-157.838986     True  \n",
       "3           1                     []     True  \n",
       "4           1                     []     True  "
      ]
     },
     "execution_count": 6,
     "metadata": {},
     "output_type": "execute_result"
    }
   ],
   "source": [
    "df = drop_unnecessary_columns(df_cleaned)\n",
    "df.head()"
   ]
  },
  {
   "cell_type": "code",
   "execution_count": 7,
   "metadata": {},
   "outputs": [],
   "source": [
    "def geo_conv(df):\n",
    "    \n",
    "    # extract the geo coordinates from latitude messy column\n",
    "    df['latitude'] = df['geo_coordinates'].apply(lambda x: x.split(',')[0])\n",
    "    df['latitude'] = df['latitude'].apply(lambda x: np.nan if x == '[]' else x)\n",
    "\n",
    "\n",
    "    # extract the geo coordinates from longtitude messy column\n",
    "    df['longitude'] = df['geo_coordinates'].apply(lambda x: x.split(',')[1] if len(x)== 21 else np.nan)\n",
    "    df['longitude'] = df['longitude'].apply(lambda x: np.nan if x == '[]' else x)\n",
    "\n",
    "    return df"
   ]
  },
  {
   "cell_type": "code",
   "execution_count": 8,
   "metadata": {},
   "outputs": [],
   "source": [
    "df = geo_conv(df)"
   ]
  },
  {
   "cell_type": "code",
   "execution_count": 9,
   "metadata": {},
   "outputs": [],
   "source": [
    "def columns_to_numeric(df):\n",
    "    \n",
    "    #iterate acroos columns\n",
    "    for col in df.columns:\n",
    "        #convert each columns to numerical values\n",
    "        try:\n",
    "            df[col] = df[col].astype(int)\n",
    "        except:\n",
    "            df[col] = pd.to_numeric(df[col], errors = 'coerce')\n",
    "            \n",
    "    return df"
   ]
  },
  {
   "cell_type": "code",
   "execution_count": 10,
   "metadata": {},
   "outputs": [],
   "source": [
    "df = columns_to_numeric(df)"
   ]
  },
  {
   "cell_type": "code",
   "execution_count": 11,
   "metadata": {},
   "outputs": [
    {
     "name": "stderr",
     "output_type": "stream",
     "text": [
      "<ipython-input-11-56d88ef7393b>:4: SettingWithCopyWarning: \n",
      "A value is trying to be set on a copy of a slice from a DataFrame.\n",
      "Try using .loc[row_indexer,col_indexer] = value instead\n",
      "\n",
      "See the caveats in the documentation: http://pandas.pydata.org/pandas-docs/stable/user_guide/indexing.html#returning-a-view-versus-a-copy\n",
      "  df.loc[df['n_area'] < 70]['n_area'] = np.nan\n"
     ]
    }
   ],
   "source": [
    "def correct_area(df):\n",
    "    \n",
    "    # all apartments with area less than 70 sqft are converted to Nan values\n",
    "    df.loc[df['n_area'] < 70]['n_area'] = np.nan\n",
    "    df['n_area'] = df['n_area'].apply(lambda x: None if x < 70 else x)\n",
    "    \n",
    "    # Using the price variable, which corresponfss to an area, I will impute the missing area values\n",
    "    df['n_area'] = df.groupby('n_price').n_area.transform(lambda x: x.fillna(x.mean()))\n",
    "    \n",
    "    return df\n",
    "\n",
    "df = correct_area(df)"
   ]
  },
  {
   "cell_type": "code",
   "execution_count": 12,
   "metadata": {},
   "outputs": [],
   "source": [
    "# drop unnecessary columns\n",
    "def drop_columns(df, col):\n",
    "    df.drop(columns = [col], axis = 1, inplace = True)\n",
    "    return df\n",
    "\n",
    "cols = ['geo_coordinates']\n",
    "for col in cols:\n",
    "    df = drop_columns(df, col)"
   ]
  },
  {
   "cell_type": "code",
   "execution_count": 13,
   "metadata": {},
   "outputs": [],
   "source": [
    "df = df[['n_area', 'n_bedrooms', 'beach_availability', 'day_posted',\n",
    "       'day_available', 'n_bathrooms', 'smoking', 'latitude', 'longitude', 'n_price']]"
   ]
  },
  {
   "cell_type": "code",
   "execution_count": 14,
   "metadata": {},
   "outputs": [],
   "source": [
    "#dropping columns\n",
    "def drop_nan(df, variable):\n",
    "    df[variable+'_dropped'] = df[variable].fillna(0)\n",
    "    return df\n",
    "\n",
    "\n",
    "# mode imputation\n",
    "def impute_nan_mode(df, variable):\n",
    "    df[variable+'_mode'] = df[variable].fillna(2.0)\n",
    "    return df\n",
    "\n",
    "\n",
    "# median imputation\n",
    "def impute_nan_median(df, variable):\n",
    "    median = df[variable].median()\n",
    "    df[variable+'_median'] = df[variable].fillna(median)\n",
    "    return df\n",
    "\n",
    "# Random sample imputation peaks random data to replace the nan values applied for MCAR\n",
    "def impute_nan_random(df,variable):\n",
    "    median = df[variable].median()\n",
    "    df[variable+\"_median\"]=df[variable].fillna(median)\n",
    "    df[variable+\"_random\"]=df[variable]\n",
    "    random_sample=df[variable].dropna().sample(df[variable].isnull().sum(),random_state=0)\n",
    "    random_sample.index=df[df[variable].isnull()].index\n",
    "    df.loc[df[variable].isnull(),variable+'_random']=random_sample\n",
    "    variable = df['n_area']\n",
    "    return df\n",
    "\n",
    "\n",
    "# by outliers\n",
    "def impute_by_outliers(df):\n",
    "    extreme = df.n_area.mean() + 3*df.n_area.std()\n",
    "    df['n_area_extreme'] = df['n_area'].fillna(extreme)\n",
    "    return df\n",
    "\n",
    "# group by Price. Trying to predict the missing n_bedrooms by the grouping known n_bedrooms by apartment price, and \n",
    "# filling unknown n_bedrooms values that corresponds to the n_price variable\n",
    "def impute_by_Price(df, variable1, variable2):\n",
    "    df[variable1 + '_by_' + variable2] = df[variable1].fillna(df.groupby(variable2)[variable1].transform('median'))\n",
    "    return df"
   ]
  },
  {
   "cell_type": "code",
   "execution_count": 15,
   "metadata": {},
   "outputs": [
    {
     "data": {
      "text/html": [
       "<div>\n",
       "<style scoped>\n",
       "    .dataframe tbody tr th:only-of-type {\n",
       "        vertical-align: middle;\n",
       "    }\n",
       "\n",
       "    .dataframe tbody tr th {\n",
       "        vertical-align: top;\n",
       "    }\n",
       "\n",
       "    .dataframe thead th {\n",
       "        text-align: right;\n",
       "    }\n",
       "</style>\n",
       "<table border=\"1\" class=\"dataframe\">\n",
       "  <thead>\n",
       "    <tr style=\"text-align: right;\">\n",
       "      <th></th>\n",
       "      <th>n_area</th>\n",
       "      <th>n_bedrooms</th>\n",
       "      <th>beach_availability</th>\n",
       "      <th>day_posted</th>\n",
       "      <th>day_available</th>\n",
       "      <th>n_bathrooms</th>\n",
       "      <th>smoking</th>\n",
       "      <th>latitude</th>\n",
       "      <th>longitude</th>\n",
       "      <th>n_price</th>\n",
       "      <th>n_area_dropped</th>\n",
       "      <th>n_area_mode</th>\n",
       "      <th>n_area_median</th>\n",
       "      <th>n_area_random</th>\n",
       "      <th>n_area_by_n_price</th>\n",
       "      <th>n_area_extreme</th>\n",
       "    </tr>\n",
       "  </thead>\n",
       "  <tbody>\n",
       "    <tr>\n",
       "      <th>0</th>\n",
       "      <td>800.0</td>\n",
       "      <td>NaN</td>\n",
       "      <td>1</td>\n",
       "      <td>16</td>\n",
       "      <td>NaN</td>\n",
       "      <td>1</td>\n",
       "      <td>1</td>\n",
       "      <td>NaN</td>\n",
       "      <td>NaN</td>\n",
       "      <td>1950</td>\n",
       "      <td>800.0</td>\n",
       "      <td>800.0</td>\n",
       "      <td>800.0</td>\n",
       "      <td>800.0</td>\n",
       "      <td>800.0</td>\n",
       "      <td>800.0</td>\n",
       "    </tr>\n",
       "    <tr>\n",
       "      <th>1</th>\n",
       "      <td>480.0</td>\n",
       "      <td>1.0</td>\n",
       "      <td>0</td>\n",
       "      <td>19</td>\n",
       "      <td>19.0</td>\n",
       "      <td>1</td>\n",
       "      <td>1</td>\n",
       "      <td>21.287535</td>\n",
       "      <td>-157.820367</td>\n",
       "      <td>1520</td>\n",
       "      <td>480.0</td>\n",
       "      <td>480.0</td>\n",
       "      <td>480.0</td>\n",
       "      <td>480.0</td>\n",
       "      <td>480.0</td>\n",
       "      <td>480.0</td>\n",
       "    </tr>\n",
       "    <tr>\n",
       "      <th>2</th>\n",
       "      <td>380.0</td>\n",
       "      <td>NaN</td>\n",
       "      <td>1</td>\n",
       "      <td>30</td>\n",
       "      <td>30.0</td>\n",
       "      <td>1</td>\n",
       "      <td>1</td>\n",
       "      <td>21.286107</td>\n",
       "      <td>-157.838986</td>\n",
       "      <td>1500</td>\n",
       "      <td>380.0</td>\n",
       "      <td>380.0</td>\n",
       "      <td>380.0</td>\n",
       "      <td>380.0</td>\n",
       "      <td>380.0</td>\n",
       "      <td>380.0</td>\n",
       "    </tr>\n",
       "    <tr>\n",
       "      <th>3</th>\n",
       "      <td>400.0</td>\n",
       "      <td>1.0</td>\n",
       "      <td>0</td>\n",
       "      <td>24</td>\n",
       "      <td>NaN</td>\n",
       "      <td>1</td>\n",
       "      <td>1</td>\n",
       "      <td>NaN</td>\n",
       "      <td>NaN</td>\n",
       "      <td>1380</td>\n",
       "      <td>400.0</td>\n",
       "      <td>400.0</td>\n",
       "      <td>400.0</td>\n",
       "      <td>400.0</td>\n",
       "      <td>400.0</td>\n",
       "      <td>400.0</td>\n",
       "    </tr>\n",
       "    <tr>\n",
       "      <th>4</th>\n",
       "      <td>650.0</td>\n",
       "      <td>1.0</td>\n",
       "      <td>0</td>\n",
       "      <td>24</td>\n",
       "      <td>24.0</td>\n",
       "      <td>1</td>\n",
       "      <td>1</td>\n",
       "      <td>NaN</td>\n",
       "      <td>NaN</td>\n",
       "      <td>1025</td>\n",
       "      <td>650.0</td>\n",
       "      <td>650.0</td>\n",
       "      <td>650.0</td>\n",
       "      <td>650.0</td>\n",
       "      <td>650.0</td>\n",
       "      <td>650.0</td>\n",
       "    </tr>\n",
       "    <tr>\n",
       "      <th>...</th>\n",
       "      <td>...</td>\n",
       "      <td>...</td>\n",
       "      <td>...</td>\n",
       "      <td>...</td>\n",
       "      <td>...</td>\n",
       "      <td>...</td>\n",
       "      <td>...</td>\n",
       "      <td>...</td>\n",
       "      <td>...</td>\n",
       "      <td>...</td>\n",
       "      <td>...</td>\n",
       "      <td>...</td>\n",
       "      <td>...</td>\n",
       "      <td>...</td>\n",
       "      <td>...</td>\n",
       "      <td>...</td>\n",
       "    </tr>\n",
       "    <tr>\n",
       "      <th>3115</th>\n",
       "      <td>650.0</td>\n",
       "      <td>2.0</td>\n",
       "      <td>0</td>\n",
       "      <td>23</td>\n",
       "      <td>24.0</td>\n",
       "      <td>1</td>\n",
       "      <td>1</td>\n",
       "      <td>NaN</td>\n",
       "      <td>NaN</td>\n",
       "      <td>1900</td>\n",
       "      <td>650.0</td>\n",
       "      <td>650.0</td>\n",
       "      <td>650.0</td>\n",
       "      <td>650.0</td>\n",
       "      <td>650.0</td>\n",
       "      <td>650.0</td>\n",
       "    </tr>\n",
       "    <tr>\n",
       "      <th>3116</th>\n",
       "      <td>1188.0</td>\n",
       "      <td>2.0</td>\n",
       "      <td>1</td>\n",
       "      <td>23</td>\n",
       "      <td>7.0</td>\n",
       "      <td>2</td>\n",
       "      <td>1</td>\n",
       "      <td>21.272499</td>\n",
       "      <td>-157.820749</td>\n",
       "      <td>2895</td>\n",
       "      <td>1188.0</td>\n",
       "      <td>1188.0</td>\n",
       "      <td>1188.0</td>\n",
       "      <td>1188.0</td>\n",
       "      <td>1188.0</td>\n",
       "      <td>1188.0</td>\n",
       "    </tr>\n",
       "    <tr>\n",
       "      <th>3117</th>\n",
       "      <td>1000.0</td>\n",
       "      <td>2.0</td>\n",
       "      <td>0</td>\n",
       "      <td>16</td>\n",
       "      <td>NaN</td>\n",
       "      <td>5</td>\n",
       "      <td>1</td>\n",
       "      <td>NaN</td>\n",
       "      <td>NaN</td>\n",
       "      <td>1800</td>\n",
       "      <td>1000.0</td>\n",
       "      <td>1000.0</td>\n",
       "      <td>1000.0</td>\n",
       "      <td>1000.0</td>\n",
       "      <td>1000.0</td>\n",
       "      <td>1000.0</td>\n",
       "    </tr>\n",
       "    <tr>\n",
       "      <th>3118</th>\n",
       "      <td>750.0</td>\n",
       "      <td>2.0</td>\n",
       "      <td>1</td>\n",
       "      <td>23</td>\n",
       "      <td>1.0</td>\n",
       "      <td>5</td>\n",
       "      <td>1</td>\n",
       "      <td>20.780922</td>\n",
       "      <td>-156.458284</td>\n",
       "      <td>2650</td>\n",
       "      <td>750.0</td>\n",
       "      <td>750.0</td>\n",
       "      <td>750.0</td>\n",
       "      <td>750.0</td>\n",
       "      <td>750.0</td>\n",
       "      <td>750.0</td>\n",
       "    </tr>\n",
       "    <tr>\n",
       "      <th>3119</th>\n",
       "      <td>460.0</td>\n",
       "      <td>1.0</td>\n",
       "      <td>1</td>\n",
       "      <td>21</td>\n",
       "      <td>27.0</td>\n",
       "      <td>1</td>\n",
       "      <td>1</td>\n",
       "      <td>21.286107</td>\n",
       "      <td>-157.838986</td>\n",
       "      <td>1650</td>\n",
       "      <td>460.0</td>\n",
       "      <td>460.0</td>\n",
       "      <td>460.0</td>\n",
       "      <td>460.0</td>\n",
       "      <td>460.0</td>\n",
       "      <td>460.0</td>\n",
       "    </tr>\n",
       "  </tbody>\n",
       "</table>\n",
       "<p>3120 rows × 16 columns</p>\n",
       "</div>"
      ],
      "text/plain": [
       "      n_area  n_bedrooms  beach_availability  day_posted  day_available  \\\n",
       "0      800.0         NaN                   1          16            NaN   \n",
       "1      480.0         1.0                   0          19           19.0   \n",
       "2      380.0         NaN                   1          30           30.0   \n",
       "3      400.0         1.0                   0          24            NaN   \n",
       "4      650.0         1.0                   0          24           24.0   \n",
       "...      ...         ...                 ...         ...            ...   \n",
       "3115   650.0         2.0                   0          23           24.0   \n",
       "3116  1188.0         2.0                   1          23            7.0   \n",
       "3117  1000.0         2.0                   0          16            NaN   \n",
       "3118   750.0         2.0                   1          23            1.0   \n",
       "3119   460.0         1.0                   1          21           27.0   \n",
       "\n",
       "      n_bathrooms  smoking   latitude   longitude  n_price  n_area_dropped  \\\n",
       "0               1        1        NaN         NaN     1950           800.0   \n",
       "1               1        1  21.287535 -157.820367     1520           480.0   \n",
       "2               1        1  21.286107 -157.838986     1500           380.0   \n",
       "3               1        1        NaN         NaN     1380           400.0   \n",
       "4               1        1        NaN         NaN     1025           650.0   \n",
       "...           ...      ...        ...         ...      ...             ...   \n",
       "3115            1        1        NaN         NaN     1900           650.0   \n",
       "3116            2        1  21.272499 -157.820749     2895          1188.0   \n",
       "3117            5        1        NaN         NaN     1800          1000.0   \n",
       "3118            5        1  20.780922 -156.458284     2650           750.0   \n",
       "3119            1        1  21.286107 -157.838986     1650           460.0   \n",
       "\n",
       "      n_area_mode  n_area_median  n_area_random  n_area_by_n_price  \\\n",
       "0           800.0          800.0          800.0              800.0   \n",
       "1           480.0          480.0          480.0              480.0   \n",
       "2           380.0          380.0          380.0              380.0   \n",
       "3           400.0          400.0          400.0              400.0   \n",
       "4           650.0          650.0          650.0              650.0   \n",
       "...           ...            ...            ...                ...   \n",
       "3115        650.0          650.0          650.0              650.0   \n",
       "3116       1188.0         1188.0         1188.0             1188.0   \n",
       "3117       1000.0         1000.0         1000.0             1000.0   \n",
       "3118        750.0          750.0          750.0              750.0   \n",
       "3119        460.0          460.0          460.0              460.0   \n",
       "\n",
       "      n_area_extreme  \n",
       "0              800.0  \n",
       "1              480.0  \n",
       "2              380.0  \n",
       "3              400.0  \n",
       "4              650.0  \n",
       "...              ...  \n",
       "3115           650.0  \n",
       "3116          1188.0  \n",
       "3117          1000.0  \n",
       "3118           750.0  \n",
       "3119           460.0  \n",
       "\n",
       "[3120 rows x 16 columns]"
      ]
     },
     "execution_count": 15,
     "metadata": {},
     "output_type": "execute_result"
    }
   ],
   "source": [
    "drop_nan(df, 'n_area')\n",
    "impute_nan_mode(df, 'n_area')\n",
    "impute_nan_median(df, 'n_area')\n",
    "impute_nan_random(df,'n_area')\n",
    "impute_by_Price(df, 'n_area', 'n_price')\n",
    "\n",
    "impute_by_outliers(df)"
   ]
  },
  {
   "cell_type": "code",
   "execution_count": 16,
   "metadata": {},
   "outputs": [],
   "source": [
    "#dropping columns\n",
    "def drop_nan(df, variable):\n",
    "    df[variable+'_dropped'] = df[variable].fillna(0)\n",
    "    return df\n",
    "\n",
    "\n",
    "# mode imputation\n",
    "def impute_nan_mode(df, variable):\n",
    "    df[variable+'_mode'] = df[variable].fillna(2.0)\n",
    "    return df\n",
    "\n",
    "\n",
    "# median imputation\n",
    "def impute_nan_median(df, variable):\n",
    "    median = df[variable].median()\n",
    "    df[variable+'_median'] = df[variable].fillna(median)\n",
    "    return df\n",
    "\n",
    "# Random sample imputation peaks random data to replace the nan values applied for MCAR\n",
    "def impute_nan_random(df,variable):\n",
    "    median = df[variable].median()\n",
    "    df[variable+\"_median\"]=df[variable].fillna(median)\n",
    "    df[variable+\"_random\"]=df[variable]\n",
    "    random_sample=df[variable].dropna().sample(df[variable].isnull().sum(),random_state=0)\n",
    "    random_sample.index=df[df[variable].isnull()].index\n",
    "    df.loc[df[variable].isnull(),variable+'_random']=random_sample\n",
    "    variable = df['n_bedrooms']\n",
    "    return df\n",
    "\n",
    "# group by Price. Trying to predict the missing n_bedrooms by the grouping known n_bedrooms by apartment price, and \n",
    "# filling unknown n_bedrooms values that corresponds to the n_price variable\n",
    "def impute_by_Price(df, variable1, variable2):\n",
    "    df[variable1 + '_by_' + variable2] = df[variable1].fillna(df.groupby(variable2)[variable1].transform('median'))\n",
    "    return df"
   ]
  },
  {
   "cell_type": "code",
   "execution_count": 17,
   "metadata": {},
   "outputs": [
    {
     "data": {
      "text/html": [
       "<div>\n",
       "<style scoped>\n",
       "    .dataframe tbody tr th:only-of-type {\n",
       "        vertical-align: middle;\n",
       "    }\n",
       "\n",
       "    .dataframe tbody tr th {\n",
       "        vertical-align: top;\n",
       "    }\n",
       "\n",
       "    .dataframe thead th {\n",
       "        text-align: right;\n",
       "    }\n",
       "</style>\n",
       "<table border=\"1\" class=\"dataframe\">\n",
       "  <thead>\n",
       "    <tr style=\"text-align: right;\">\n",
       "      <th></th>\n",
       "      <th>n_area</th>\n",
       "      <th>n_bedrooms</th>\n",
       "      <th>beach_availability</th>\n",
       "      <th>day_posted</th>\n",
       "      <th>day_available</th>\n",
       "      <th>n_bathrooms</th>\n",
       "      <th>smoking</th>\n",
       "      <th>latitude</th>\n",
       "      <th>longitude</th>\n",
       "      <th>n_price</th>\n",
       "      <th>...</th>\n",
       "      <th>n_area_mode</th>\n",
       "      <th>n_area_median</th>\n",
       "      <th>n_area_random</th>\n",
       "      <th>n_area_by_n_price</th>\n",
       "      <th>n_area_extreme</th>\n",
       "      <th>n_bedrooms_dropped</th>\n",
       "      <th>n_bedrooms_mode</th>\n",
       "      <th>n_bedrooms_median</th>\n",
       "      <th>n_bedrooms_random</th>\n",
       "      <th>n_bedrooms_by_n_price</th>\n",
       "    </tr>\n",
       "  </thead>\n",
       "  <tbody>\n",
       "    <tr>\n",
       "      <th>0</th>\n",
       "      <td>800.0</td>\n",
       "      <td>NaN</td>\n",
       "      <td>1</td>\n",
       "      <td>16</td>\n",
       "      <td>NaN</td>\n",
       "      <td>1</td>\n",
       "      <td>1</td>\n",
       "      <td>NaN</td>\n",
       "      <td>NaN</td>\n",
       "      <td>1950</td>\n",
       "      <td>...</td>\n",
       "      <td>800.0</td>\n",
       "      <td>800.0</td>\n",
       "      <td>800.0</td>\n",
       "      <td>800.0</td>\n",
       "      <td>800.0</td>\n",
       "      <td>0.0</td>\n",
       "      <td>2.0</td>\n",
       "      <td>2.0</td>\n",
       "      <td>2.0</td>\n",
       "      <td>NaN</td>\n",
       "    </tr>\n",
       "    <tr>\n",
       "      <th>1</th>\n",
       "      <td>480.0</td>\n",
       "      <td>1.0</td>\n",
       "      <td>0</td>\n",
       "      <td>19</td>\n",
       "      <td>19.0</td>\n",
       "      <td>1</td>\n",
       "      <td>1</td>\n",
       "      <td>21.287535</td>\n",
       "      <td>-157.820367</td>\n",
       "      <td>1520</td>\n",
       "      <td>...</td>\n",
       "      <td>480.0</td>\n",
       "      <td>480.0</td>\n",
       "      <td>480.0</td>\n",
       "      <td>480.0</td>\n",
       "      <td>480.0</td>\n",
       "      <td>1.0</td>\n",
       "      <td>1.0</td>\n",
       "      <td>1.0</td>\n",
       "      <td>1.0</td>\n",
       "      <td>1.0</td>\n",
       "    </tr>\n",
       "    <tr>\n",
       "      <th>2</th>\n",
       "      <td>380.0</td>\n",
       "      <td>NaN</td>\n",
       "      <td>1</td>\n",
       "      <td>30</td>\n",
       "      <td>30.0</td>\n",
       "      <td>1</td>\n",
       "      <td>1</td>\n",
       "      <td>21.286107</td>\n",
       "      <td>-157.838986</td>\n",
       "      <td>1500</td>\n",
       "      <td>...</td>\n",
       "      <td>380.0</td>\n",
       "      <td>380.0</td>\n",
       "      <td>380.0</td>\n",
       "      <td>380.0</td>\n",
       "      <td>380.0</td>\n",
       "      <td>0.0</td>\n",
       "      <td>2.0</td>\n",
       "      <td>2.0</td>\n",
       "      <td>3.0</td>\n",
       "      <td>1.0</td>\n",
       "    </tr>\n",
       "    <tr>\n",
       "      <th>3</th>\n",
       "      <td>400.0</td>\n",
       "      <td>1.0</td>\n",
       "      <td>0</td>\n",
       "      <td>24</td>\n",
       "      <td>NaN</td>\n",
       "      <td>1</td>\n",
       "      <td>1</td>\n",
       "      <td>NaN</td>\n",
       "      <td>NaN</td>\n",
       "      <td>1380</td>\n",
       "      <td>...</td>\n",
       "      <td>400.0</td>\n",
       "      <td>400.0</td>\n",
       "      <td>400.0</td>\n",
       "      <td>400.0</td>\n",
       "      <td>400.0</td>\n",
       "      <td>1.0</td>\n",
       "      <td>1.0</td>\n",
       "      <td>1.0</td>\n",
       "      <td>1.0</td>\n",
       "      <td>1.0</td>\n",
       "    </tr>\n",
       "    <tr>\n",
       "      <th>4</th>\n",
       "      <td>650.0</td>\n",
       "      <td>1.0</td>\n",
       "      <td>0</td>\n",
       "      <td>24</td>\n",
       "      <td>24.0</td>\n",
       "      <td>1</td>\n",
       "      <td>1</td>\n",
       "      <td>NaN</td>\n",
       "      <td>NaN</td>\n",
       "      <td>1025</td>\n",
       "      <td>...</td>\n",
       "      <td>650.0</td>\n",
       "      <td>650.0</td>\n",
       "      <td>650.0</td>\n",
       "      <td>650.0</td>\n",
       "      <td>650.0</td>\n",
       "      <td>1.0</td>\n",
       "      <td>1.0</td>\n",
       "      <td>1.0</td>\n",
       "      <td>1.0</td>\n",
       "      <td>1.0</td>\n",
       "    </tr>\n",
       "    <tr>\n",
       "      <th>...</th>\n",
       "      <td>...</td>\n",
       "      <td>...</td>\n",
       "      <td>...</td>\n",
       "      <td>...</td>\n",
       "      <td>...</td>\n",
       "      <td>...</td>\n",
       "      <td>...</td>\n",
       "      <td>...</td>\n",
       "      <td>...</td>\n",
       "      <td>...</td>\n",
       "      <td>...</td>\n",
       "      <td>...</td>\n",
       "      <td>...</td>\n",
       "      <td>...</td>\n",
       "      <td>...</td>\n",
       "      <td>...</td>\n",
       "      <td>...</td>\n",
       "      <td>...</td>\n",
       "      <td>...</td>\n",
       "      <td>...</td>\n",
       "      <td>...</td>\n",
       "    </tr>\n",
       "    <tr>\n",
       "      <th>3115</th>\n",
       "      <td>650.0</td>\n",
       "      <td>2.0</td>\n",
       "      <td>0</td>\n",
       "      <td>23</td>\n",
       "      <td>24.0</td>\n",
       "      <td>1</td>\n",
       "      <td>1</td>\n",
       "      <td>NaN</td>\n",
       "      <td>NaN</td>\n",
       "      <td>1900</td>\n",
       "      <td>...</td>\n",
       "      <td>650.0</td>\n",
       "      <td>650.0</td>\n",
       "      <td>650.0</td>\n",
       "      <td>650.0</td>\n",
       "      <td>650.0</td>\n",
       "      <td>2.0</td>\n",
       "      <td>2.0</td>\n",
       "      <td>2.0</td>\n",
       "      <td>2.0</td>\n",
       "      <td>2.0</td>\n",
       "    </tr>\n",
       "    <tr>\n",
       "      <th>3116</th>\n",
       "      <td>1188.0</td>\n",
       "      <td>2.0</td>\n",
       "      <td>1</td>\n",
       "      <td>23</td>\n",
       "      <td>7.0</td>\n",
       "      <td>2</td>\n",
       "      <td>1</td>\n",
       "      <td>21.272499</td>\n",
       "      <td>-157.820749</td>\n",
       "      <td>2895</td>\n",
       "      <td>...</td>\n",
       "      <td>1188.0</td>\n",
       "      <td>1188.0</td>\n",
       "      <td>1188.0</td>\n",
       "      <td>1188.0</td>\n",
       "      <td>1188.0</td>\n",
       "      <td>2.0</td>\n",
       "      <td>2.0</td>\n",
       "      <td>2.0</td>\n",
       "      <td>2.0</td>\n",
       "      <td>2.0</td>\n",
       "    </tr>\n",
       "    <tr>\n",
       "      <th>3117</th>\n",
       "      <td>1000.0</td>\n",
       "      <td>2.0</td>\n",
       "      <td>0</td>\n",
       "      <td>16</td>\n",
       "      <td>NaN</td>\n",
       "      <td>5</td>\n",
       "      <td>1</td>\n",
       "      <td>NaN</td>\n",
       "      <td>NaN</td>\n",
       "      <td>1800</td>\n",
       "      <td>...</td>\n",
       "      <td>1000.0</td>\n",
       "      <td>1000.0</td>\n",
       "      <td>1000.0</td>\n",
       "      <td>1000.0</td>\n",
       "      <td>1000.0</td>\n",
       "      <td>2.0</td>\n",
       "      <td>2.0</td>\n",
       "      <td>2.0</td>\n",
       "      <td>2.0</td>\n",
       "      <td>2.0</td>\n",
       "    </tr>\n",
       "    <tr>\n",
       "      <th>3118</th>\n",
       "      <td>750.0</td>\n",
       "      <td>2.0</td>\n",
       "      <td>1</td>\n",
       "      <td>23</td>\n",
       "      <td>1.0</td>\n",
       "      <td>5</td>\n",
       "      <td>1</td>\n",
       "      <td>20.780922</td>\n",
       "      <td>-156.458284</td>\n",
       "      <td>2650</td>\n",
       "      <td>...</td>\n",
       "      <td>750.0</td>\n",
       "      <td>750.0</td>\n",
       "      <td>750.0</td>\n",
       "      <td>750.0</td>\n",
       "      <td>750.0</td>\n",
       "      <td>2.0</td>\n",
       "      <td>2.0</td>\n",
       "      <td>2.0</td>\n",
       "      <td>2.0</td>\n",
       "      <td>2.0</td>\n",
       "    </tr>\n",
       "    <tr>\n",
       "      <th>3119</th>\n",
       "      <td>460.0</td>\n",
       "      <td>1.0</td>\n",
       "      <td>1</td>\n",
       "      <td>21</td>\n",
       "      <td>27.0</td>\n",
       "      <td>1</td>\n",
       "      <td>1</td>\n",
       "      <td>21.286107</td>\n",
       "      <td>-157.838986</td>\n",
       "      <td>1650</td>\n",
       "      <td>...</td>\n",
       "      <td>460.0</td>\n",
       "      <td>460.0</td>\n",
       "      <td>460.0</td>\n",
       "      <td>460.0</td>\n",
       "      <td>460.0</td>\n",
       "      <td>1.0</td>\n",
       "      <td>1.0</td>\n",
       "      <td>1.0</td>\n",
       "      <td>1.0</td>\n",
       "      <td>1.0</td>\n",
       "    </tr>\n",
       "  </tbody>\n",
       "</table>\n",
       "<p>3120 rows × 21 columns</p>\n",
       "</div>"
      ],
      "text/plain": [
       "      n_area  n_bedrooms  beach_availability  day_posted  day_available  \\\n",
       "0      800.0         NaN                   1          16            NaN   \n",
       "1      480.0         1.0                   0          19           19.0   \n",
       "2      380.0         NaN                   1          30           30.0   \n",
       "3      400.0         1.0                   0          24            NaN   \n",
       "4      650.0         1.0                   0          24           24.0   \n",
       "...      ...         ...                 ...         ...            ...   \n",
       "3115   650.0         2.0                   0          23           24.0   \n",
       "3116  1188.0         2.0                   1          23            7.0   \n",
       "3117  1000.0         2.0                   0          16            NaN   \n",
       "3118   750.0         2.0                   1          23            1.0   \n",
       "3119   460.0         1.0                   1          21           27.0   \n",
       "\n",
       "      n_bathrooms  smoking   latitude   longitude  n_price  ...  n_area_mode  \\\n",
       "0               1        1        NaN         NaN     1950  ...        800.0   \n",
       "1               1        1  21.287535 -157.820367     1520  ...        480.0   \n",
       "2               1        1  21.286107 -157.838986     1500  ...        380.0   \n",
       "3               1        1        NaN         NaN     1380  ...        400.0   \n",
       "4               1        1        NaN         NaN     1025  ...        650.0   \n",
       "...           ...      ...        ...         ...      ...  ...          ...   \n",
       "3115            1        1        NaN         NaN     1900  ...        650.0   \n",
       "3116            2        1  21.272499 -157.820749     2895  ...       1188.0   \n",
       "3117            5        1        NaN         NaN     1800  ...       1000.0   \n",
       "3118            5        1  20.780922 -156.458284     2650  ...        750.0   \n",
       "3119            1        1  21.286107 -157.838986     1650  ...        460.0   \n",
       "\n",
       "      n_area_median  n_area_random  n_area_by_n_price  n_area_extreme  \\\n",
       "0             800.0          800.0              800.0           800.0   \n",
       "1             480.0          480.0              480.0           480.0   \n",
       "2             380.0          380.0              380.0           380.0   \n",
       "3             400.0          400.0              400.0           400.0   \n",
       "4             650.0          650.0              650.0           650.0   \n",
       "...             ...            ...                ...             ...   \n",
       "3115          650.0          650.0              650.0           650.0   \n",
       "3116         1188.0         1188.0             1188.0          1188.0   \n",
       "3117         1000.0         1000.0             1000.0          1000.0   \n",
       "3118          750.0          750.0              750.0           750.0   \n",
       "3119          460.0          460.0              460.0           460.0   \n",
       "\n",
       "      n_bedrooms_dropped  n_bedrooms_mode  n_bedrooms_median  \\\n",
       "0                    0.0              2.0                2.0   \n",
       "1                    1.0              1.0                1.0   \n",
       "2                    0.0              2.0                2.0   \n",
       "3                    1.0              1.0                1.0   \n",
       "4                    1.0              1.0                1.0   \n",
       "...                  ...              ...                ...   \n",
       "3115                 2.0              2.0                2.0   \n",
       "3116                 2.0              2.0                2.0   \n",
       "3117                 2.0              2.0                2.0   \n",
       "3118                 2.0              2.0                2.0   \n",
       "3119                 1.0              1.0                1.0   \n",
       "\n",
       "      n_bedrooms_random  n_bedrooms_by_n_price  \n",
       "0                   2.0                    NaN  \n",
       "1                   1.0                    1.0  \n",
       "2                   3.0                    1.0  \n",
       "3                   1.0                    1.0  \n",
       "4                   1.0                    1.0  \n",
       "...                 ...                    ...  \n",
       "3115                2.0                    2.0  \n",
       "3116                2.0                    2.0  \n",
       "3117                2.0                    2.0  \n",
       "3118                2.0                    2.0  \n",
       "3119                1.0                    1.0  \n",
       "\n",
       "[3120 rows x 21 columns]"
      ]
     },
     "execution_count": 17,
     "metadata": {},
     "output_type": "execute_result"
    }
   ],
   "source": [
    "drop_nan(df, 'n_bedrooms')\n",
    "impute_nan_mode(df, 'n_bedrooms')\n",
    "impute_nan_median(df, 'n_bedrooms')\n",
    "impute_nan_random(df,'n_bedrooms')\n",
    "impute_by_Price(df, 'n_bedrooms', 'n_price')"
   ]
  },
  {
   "cell_type": "code",
   "execution_count": 18,
   "metadata": {},
   "outputs": [],
   "source": [
    "df = df[['beach_availability', 'n_area_random', 'n_bedrooms_mode', 'n_bathrooms',\n",
    "          'day_posted', 'n_price']]"
   ]
  },
  {
   "cell_type": "code",
   "execution_count": 19,
   "metadata": {},
   "outputs": [],
   "source": [
    "def new_features(df):\n",
    "    \n",
    "    # lets normalize the price variable. The most sense would make to divide calculate the price of 1 meter.\n",
    "    df['cost_square_meter'] = (df['n_price']/df['n_area_random'])/0.092903 # feet to meters\n",
    "\n",
    "\n",
    "    # convert to numerical values coercing errors\n",
    "    df['bedrooms_to_bathrooms'] = df['n_bedrooms_mode']/df['n_bathrooms']\n",
    "    \n",
    "    \n",
    "    # take the diff between posted and the todays date\n",
    "    # data got scraped on the 24th of July\n",
    "    \n",
    "    df['day_diff'] = df['day_posted'].apply(lambda x: (24 - x) if x <=24 else (24 + 30 - x))\n",
    "    \n",
    "    return df"
   ]
  },
  {
   "cell_type": "code",
   "execution_count": 20,
   "metadata": {},
   "outputs": [
    {
     "name": "stderr",
     "output_type": "stream",
     "text": [
      "<ipython-input-19-4d14cc90011c>:4: SettingWithCopyWarning: \n",
      "A value is trying to be set on a copy of a slice from a DataFrame.\n",
      "Try using .loc[row_indexer,col_indexer] = value instead\n",
      "\n",
      "See the caveats in the documentation: http://pandas.pydata.org/pandas-docs/stable/user_guide/indexing.html#returning-a-view-versus-a-copy\n",
      "  df['cost_square_meter'] = (df['n_price']/df['n_area_random'])/0.092903 # feet to meters\n",
      "<ipython-input-19-4d14cc90011c>:8: SettingWithCopyWarning: \n",
      "A value is trying to be set on a copy of a slice from a DataFrame.\n",
      "Try using .loc[row_indexer,col_indexer] = value instead\n",
      "\n",
      "See the caveats in the documentation: http://pandas.pydata.org/pandas-docs/stable/user_guide/indexing.html#returning-a-view-versus-a-copy\n",
      "  df['bedrooms_to_bathrooms'] = df['n_bedrooms_mode']/df['n_bathrooms']\n",
      "<ipython-input-19-4d14cc90011c>:14: SettingWithCopyWarning: \n",
      "A value is trying to be set on a copy of a slice from a DataFrame.\n",
      "Try using .loc[row_indexer,col_indexer] = value instead\n",
      "\n",
      "See the caveats in the documentation: http://pandas.pydata.org/pandas-docs/stable/user_guide/indexing.html#returning-a-view-versus-a-copy\n",
      "  df['day_diff'] = df['day_posted'].apply(lambda x: (24 - x) if x <=24 else (24 + 30 - x))\n"
     ]
    }
   ],
   "source": [
    "df = new_features(df)"
   ]
  },
  {
   "cell_type": "code",
   "execution_count": 21,
   "metadata": {},
   "outputs": [
    {
     "data": {
      "application/javascript": [
       "\n",
       "        if (window._pyforest_update_imports_cell) { window._pyforest_update_imports_cell('import matplotlib.pyplot as plt\\nimport re'); }\n",
       "    "
      ],
      "text/plain": [
       "<IPython.core.display.Javascript object>"
      ]
     },
     "metadata": {},
     "output_type": "display_data"
    },
    {
     "data": {
      "application/javascript": [
       "\n",
       "        if (window._pyforest_update_imports_cell) { window._pyforest_update_imports_cell('import matplotlib.pyplot as plt\\nimport re'); }\n",
       "    "
      ],
      "text/plain": [
       "<IPython.core.display.Javascript object>"
      ]
     },
     "metadata": {},
     "output_type": "display_data"
    },
    {
     "data": {
      "application/javascript": [
       "\n",
       "        if (window._pyforest_update_imports_cell) { window._pyforest_update_imports_cell('import seaborn as sns\\nimport matplotlib.pyplot as plt\\nimport re'); }\n",
       "    "
      ],
      "text/plain": [
       "<IPython.core.display.Javascript object>"
      ]
     },
     "metadata": {},
     "output_type": "display_data"
    },
    {
     "data": {
      "application/javascript": [
       "\n",
       "        if (window._pyforest_update_imports_cell) { window._pyforest_update_imports_cell('import seaborn as sns\\nimport matplotlib.pyplot as plt\\nimport re'); }\n",
       "    "
      ],
      "text/plain": [
       "<IPython.core.display.Javascript object>"
      ]
     },
     "metadata": {},
     "output_type": "display_data"
    },
    {
     "data": {
      "application/javascript": [
       "\n",
       "        if (window._pyforest_update_imports_cell) { window._pyforest_update_imports_cell('import seaborn as sns\\nimport matplotlib.pyplot as plt\\nimport re'); }\n",
       "    "
      ],
      "text/plain": [
       "<IPython.core.display.Javascript object>"
      ]
     },
     "metadata": {},
     "output_type": "display_data"
    },
    {
     "data": {
      "application/javascript": [
       "\n",
       "        if (window._pyforest_update_imports_cell) { window._pyforest_update_imports_cell('import seaborn as sns\\nimport matplotlib.pyplot as plt\\nimport re'); }\n",
       "    "
      ],
      "text/plain": [
       "<IPython.core.display.Javascript object>"
      ]
     },
     "metadata": {},
     "output_type": "display_data"
    },
    {
     "data": {
      "application/javascript": [
       "\n",
       "        if (window._pyforest_update_imports_cell) { window._pyforest_update_imports_cell('import seaborn as sns\\nimport matplotlib.pyplot as plt\\nimport re'); }\n",
       "    "
      ],
      "text/plain": [
       "<IPython.core.display.Javascript object>"
      ]
     },
     "metadata": {},
     "output_type": "display_data"
    },
    {
     "data": {
      "application/javascript": [
       "\n",
       "        if (window._pyforest_update_imports_cell) { window._pyforest_update_imports_cell('import seaborn as sns\\nimport matplotlib.pyplot as plt\\nimport re'); }\n",
       "    "
      ],
      "text/plain": [
       "<IPython.core.display.Javascript object>"
      ]
     },
     "metadata": {},
     "output_type": "display_data"
    },
    {
     "data": {
      "application/javascript": [
       "\n",
       "        if (window._pyforest_update_imports_cell) { window._pyforest_update_imports_cell('import seaborn as sns\\nimport matplotlib.pyplot as plt\\nimport re'); }\n",
       "    "
      ],
      "text/plain": [
       "<IPython.core.display.Javascript object>"
      ]
     },
     "metadata": {},
     "output_type": "display_data"
    },
    {
     "data": {
      "image/png": "[encoded data removed]",
      "text/plain": [
       "<Figure size 1080x1296 with 2 Axes>"
      ]
     },
     "metadata": {
      "needs_background": "light"
     },
     "output_type": "display_data"
    }
   ],
   "source": [
    "#Frequency of each category separated by label\n",
    "plt.figure(figsize=[15,18])\n",
    "feafures = ['n_price', 'n_area_random']\n",
    "#take all columns except the target Selling_Price\n",
    "n=1\n",
    "for f in feafures:\n",
    "    plt.subplot(5,2,n)\n",
    "    sns.boxplot(data = df[f], orient='h', color = 'y')\n",
    "    plt.title(\"Boxplot of {}\".format(f))\n",
    "    n=n+1\n",
    "plt.tight_layout()\n",
    "plt.show()"
   ]
  },
  {
   "cell_type": "code",
   "execution_count": 22,
   "metadata": {},
   "outputs": [],
   "source": [
    "\n",
    "def outliers_imputation(df, cols):\n",
    "    \n",
    "    #calculating the Interquartile range of a feature\n",
    "    \n",
    "    for col in cols:\n",
    "        \n",
    "        IQR=df[col].quantile(0.75)-df[col].quantile(0.25)\n",
    "\n",
    "        #calculating the borders of the normal distribution of Chance_of_Admit\n",
    "        lower_bridge=df[col].quantile(0.25)-(IQR*1.5)\n",
    "        upper_bridge=df[col].quantile(0.75)+(IQR*1.5)\n",
    "\n",
    "        #Inpute the outliers with the min values that are present for the normal distribution of Chance_of_Admit\n",
    "        df.loc[df[col]<=lower_bridge, col]=lower_bridge\n",
    "        df.loc[df[col]>=upper_bridge, col]=upper_bridge\n",
    "    \n",
    "    return df"
   ]
  },
  {
   "cell_type": "code",
   "execution_count": 23,
   "metadata": {},
   "outputs": [
    {
     "name": "stderr",
     "output_type": "stream",
     "text": [
      "C:\\Users\\valer\\anaconda3\\lib\\site-packages\\pandas\\core\\indexing.py:494: SettingWithCopyWarning: \n",
      "A value is trying to be set on a copy of a slice from a DataFrame.\n",
      "Try using .loc[row_indexer,col_indexer] = value instead\n",
      "\n",
      "See the caveats in the documentation: http://pandas.pydata.org/pandas-docs/stable/user_guide/indexing.html#returning-a-view-versus-a-copy\n",
      "  self.obj[item] = s\n"
     ]
    }
   ],
   "source": [
    "# lets impute outliers that are on the left side of cost_square_meter_mode_log\n",
    "cols = ['n_price', 'n_area_random']\n",
    "df = outliers_imputation(df, cols)"
   ]
  },
  {
   "cell_type": "code",
   "execution_count": 24,
   "metadata": {},
   "outputs": [
    {
     "data": {
      "application/javascript": [
       "\n",
       "        if (window._pyforest_update_imports_cell) { window._pyforest_update_imports_cell('import seaborn as sns\\nimport matplotlib.pyplot as plt\\nimport re'); }\n",
       "    "
      ],
      "text/plain": [
       "<IPython.core.display.Javascript object>"
      ]
     },
     "metadata": {},
     "output_type": "display_data"
    },
    {
     "data": {
      "application/javascript": [
       "\n",
       "        if (window._pyforest_update_imports_cell) { window._pyforest_update_imports_cell('import seaborn as sns\\nimport matplotlib.pyplot as plt\\nimport re'); }\n",
       "    "
      ],
      "text/plain": [
       "<IPython.core.display.Javascript object>"
      ]
     },
     "metadata": {},
     "output_type": "display_data"
    },
    {
     "data": {
      "application/javascript": [
       "\n",
       "        if (window._pyforest_update_imports_cell) { window._pyforest_update_imports_cell('import seaborn as sns\\nimport matplotlib.pyplot as plt\\nimport re'); }\n",
       "    "
      ],
      "text/plain": [
       "<IPython.core.display.Javascript object>"
      ]
     },
     "metadata": {},
     "output_type": "display_data"
    },
    {
     "data": {
      "application/javascript": [
       "\n",
       "        if (window._pyforest_update_imports_cell) { window._pyforest_update_imports_cell('import seaborn as sns\\nimport matplotlib.pyplot as plt\\nimport re'); }\n",
       "    "
      ],
      "text/plain": [
       "<IPython.core.display.Javascript object>"
      ]
     },
     "metadata": {},
     "output_type": "display_data"
    },
    {
     "data": {
      "application/javascript": [
       "\n",
       "        if (window._pyforest_update_imports_cell) { window._pyforest_update_imports_cell('import seaborn as sns\\nimport matplotlib.pyplot as plt\\nimport re'); }\n",
       "    "
      ],
      "text/plain": [
       "<IPython.core.display.Javascript object>"
      ]
     },
     "metadata": {},
     "output_type": "display_data"
    },
    {
     "data": {
      "application/javascript": [
       "\n",
       "        if (window._pyforest_update_imports_cell) { window._pyforest_update_imports_cell('import seaborn as sns\\nimport matplotlib.pyplot as plt\\nimport re'); }\n",
       "    "
      ],
      "text/plain": [
       "<IPython.core.display.Javascript object>"
      ]
     },
     "metadata": {},
     "output_type": "display_data"
    },
    {
     "data": {
      "application/javascript": [
       "\n",
       "        if (window._pyforest_update_imports_cell) { window._pyforest_update_imports_cell('import seaborn as sns\\nimport matplotlib.pyplot as plt\\nimport re'); }\n",
       "    "
      ],
      "text/plain": [
       "<IPython.core.display.Javascript object>"
      ]
     },
     "metadata": {},
     "output_type": "display_data"
    },
    {
     "data": {
      "application/javascript": [
       "\n",
       "        if (window._pyforest_update_imports_cell) { window._pyforest_update_imports_cell('import seaborn as sns\\nimport matplotlib.pyplot as plt\\nimport re'); }\n",
       "    "
      ],
      "text/plain": [
       "<IPython.core.display.Javascript object>"
      ]
     },
     "metadata": {},
     "output_type": "display_data"
    },
    {
     "data": {
      "application/javascript": [
       "\n",
       "        if (window._pyforest_update_imports_cell) { window._pyforest_update_imports_cell('import seaborn as sns\\nimport matplotlib.pyplot as plt\\nimport re'); }\n",
       "    "
      ],
      "text/plain": [
       "<IPython.core.display.Javascript object>"
      ]
     },
     "metadata": {},
     "output_type": "display_data"
    },
    {
     "data": {
      "image/png": "[encoded data removed]",
      "text/plain": [
       "<Figure size 1080x1296 with 2 Axes>"
      ]
     },
     "metadata": {
      "needs_background": "light"
     },
     "output_type": "display_data"
    }
   ],
   "source": [
    "#Frequency of each category separated by label\n",
    "plt.figure(figsize=[15,18])\n",
    "feafures = ['n_price', 'n_area_random']\n",
    "#take all columns except the target Selling_Price\n",
    "n=1\n",
    "for f in feafures:\n",
    "    plt.subplot(5,2,n)\n",
    "    sns.boxplot(data = df[f], orient='h', color = 'y')\n",
    "    plt.title(\"Boxplot of {}\".format(f))\n",
    "    n=n+1\n",
    "plt.tight_layout()\n",
    "plt.show()"
   ]
  },
  {
   "cell_type": "code",
   "execution_count": 25,
   "metadata": {},
   "outputs": [],
   "source": [
    "# final dataset\n",
    "\n",
    "df = df[['beach_availability', 'n_area_random', 'n_bathrooms',\n",
    "        'day_posted', 'n_price']]"
   ]
  },
  {
   "cell_type": "code",
   "execution_count": 26,
   "metadata": {},
   "outputs": [
    {
     "data": {
      "text/plain": [
       "beach_availability    0\n",
       "n_area_random         0\n",
       "n_bathrooms           0\n",
       "day_posted            0\n",
       "n_price               0\n",
       "dtype: int64"
      ]
     },
     "execution_count": 26,
     "metadata": {},
     "output_type": "execute_result"
    }
   ],
   "source": [
    "df.isna().sum()"
   ]
  },
  {
   "cell_type": "code",
   "execution_count": 27,
   "metadata": {},
   "outputs": [],
   "source": [
    "# preparing data for the train_test_split\n",
    "X = df.iloc[:,:-1]\n",
    "Y = df.iloc[:, -1]"
   ]
  },
  {
   "cell_type": "code",
   "execution_count": 28,
   "metadata": {},
   "outputs": [
    {
     "name": "stdout",
     "output_type": "stream",
     "text": [
      "x train:  (2496, 4)\n",
      "x test:  (624, 4)\n",
      "y train:  (2496,)\n",
      "y test:  (624,)\n"
     ]
    }
   ],
   "source": [
    "# split data into test (20%) and train (80%) parts\n",
    "X_train, X_test, y_train, y_test = train_test_split(X, Y, test_size=0.2, random_state=1)\n",
    "print(\"x train: \",X_train.shape)\n",
    "print(\"x test: \",X_test.shape)\n",
    "print(\"y train: \",y_train.shape)\n",
    "print(\"y test: \",y_test.shape)"
   ]
  },
  {
   "cell_type": "code",
   "execution_count": 29,
   "metadata": {},
   "outputs": [],
   "source": [
    "# uploading Standard Scaler\n",
    "from sklearn.preprocessing import StandardScaler\n",
    "sc = StandardScaler()\n",
    "X_train_st = sc.fit_transform(X_train)\n",
    "X_test_st = sc.transform(X_test)"
   ]
  },
  {
   "cell_type": "code",
   "execution_count": 30,
   "metadata": {},
   "outputs": [],
   "source": [
    "# fir Random Forest with the best hyperparameters\n",
    "from sklearn.ensemble import RandomForestRegressor\n",
    "rf = RandomForestRegressor(n_estimators= 1600,\n",
    " min_samples_split= 10,\n",
    " min_samples_leaf= 1,\n",
    " max_features= 'sqrt',\n",
    " max_depth= None,\n",
    " bootstrap= True, random_state = 42)\n",
    "\n",
    "# fir train data to the model\n",
    "rf.fit(X_train_st, y_train)\n",
    "\n",
    "# find predictions\n",
    "predictions = rf.predict(X_test_st)"
   ]
  },
  {
   "cell_type": "code",
   "execution_count": 31,
   "metadata": {},
   "outputs": [],
   "source": [
    "from sklearn.model_selection import cross_val_score\n",
    "\n",
    "#calculate cross validated R2\n",
    "R2 = cross_val_score(rf, X=X_train_st, y=y_train,cv=10, scoring='r2').mean()  \n",
    "\n",
    "\n",
    "#display adjusted R-squared\n",
    "#calculate Adj R2\n",
    "n= len(X_train)\n",
    "p = len(X_train.columns)\n",
    "adj_R2 = 1- ((1-R2) * (n-1)/(n-p-1))"
   ]
  },
  {
   "cell_type": "code",
   "execution_count": 32,
   "metadata": {},
   "outputs": [
    {
     "name": "stdout",
     "output_type": "stream",
     "text": [
      "MAE: 86.42512622967598\n",
      "MSE: 94164.48185291178\n",
      "RMSE: 306.8623174208781\n",
      "R2 score = 0.86\n",
      "adjR2 score = 0.89\n"
     ]
    }
   ],
   "source": [
    "from sklearn import metrics\n",
    "print('MAE:', metrics.mean_absolute_error(y_test, predictions))\n",
    "print('MSE:', metrics.mean_squared_error(y_test, predictions))\n",
    "print('RMSE:', np.sqrt(metrics.mean_squared_error(y_test, predictions)))\n",
    "print(\"R2 score =\", round(metrics.r2_score(y_test, predictions), 2))\n",
    "print(\"adjR2 score =\", round(adj_R2, 2))"
   ]
  },
  {
   "cell_type": "code",
   "execution_count": 33,
   "metadata": {},
   "outputs": [],
   "source": [
    "import pickle\n",
    "with open('Forest.pkl', 'wb') as file:\n",
    "    pickle.dump(rf, file)"
   ]
  },
  {
   "cell_type": "code",
   "execution_count": 34,
   "metadata": {},
   "outputs": [
    {
     "data": {
      "text/html": [
       "<div>\n",
       "<style scoped>\n",
       "    .dataframe tbody tr th:only-of-type {\n",
       "        vertical-align: middle;\n",
       "    }\n",
       "\n",
       "    .dataframe tbody tr th {\n",
       "        vertical-align: top;\n",
       "    }\n",
       "\n",
       "    .dataframe thead th {\n",
       "        text-align: right;\n",
       "    }\n",
       "</style>\n",
       "<table border=\"1\" class=\"dataframe\">\n",
       "  <thead>\n",
       "    <tr style=\"text-align: right;\">\n",
       "      <th></th>\n",
       "      <th>beach_availability</th>\n",
       "      <th>n_area_random</th>\n",
       "      <th>n_bathrooms</th>\n",
       "      <th>day_posted</th>\n",
       "      <th>n_price</th>\n",
       "    </tr>\n",
       "  </thead>\n",
       "  <tbody>\n",
       "    <tr>\n",
       "      <th>0</th>\n",
       "      <td>1</td>\n",
       "      <td>800.0</td>\n",
       "      <td>1</td>\n",
       "      <td>16</td>\n",
       "      <td>1950.0</td>\n",
       "    </tr>\n",
       "    <tr>\n",
       "      <th>1</th>\n",
       "      <td>0</td>\n",
       "      <td>480.0</td>\n",
       "      <td>1</td>\n",
       "      <td>19</td>\n",
       "      <td>1520.0</td>\n",
       "    </tr>\n",
       "    <tr>\n",
       "      <th>2</th>\n",
       "      <td>1</td>\n",
       "      <td>380.0</td>\n",
       "      <td>1</td>\n",
       "      <td>30</td>\n",
       "      <td>1500.0</td>\n",
       "    </tr>\n",
       "    <tr>\n",
       "      <th>3</th>\n",
       "      <td>0</td>\n",
       "      <td>400.0</td>\n",
       "      <td>1</td>\n",
       "      <td>24</td>\n",
       "      <td>1380.0</td>\n",
       "    </tr>\n",
       "    <tr>\n",
       "      <th>4</th>\n",
       "      <td>0</td>\n",
       "      <td>650.0</td>\n",
       "      <td>1</td>\n",
       "      <td>24</td>\n",
       "      <td>1025.0</td>\n",
       "    </tr>\n",
       "  </tbody>\n",
       "</table>\n",
       "</div>"
      ],
      "text/plain": [
       "   beach_availability  n_area_random  n_bathrooms  day_posted  n_price\n",
       "0                   1          800.0            1          16   1950.0\n",
       "1                   0          480.0            1          19   1520.0\n",
       "2                   1          380.0            1          30   1500.0\n",
       "3                   0          400.0            1          24   1380.0\n",
       "4                   0          650.0            1          24   1025.0"
      ]
     },
     "execution_count": 34,
     "metadata": {},
     "output_type": "execute_result"
    }
   ],
   "source": [
    "df.head()"
   ]
  }
 ],
 "metadata": {
  "kernelspec": {
   "display_name": "Python 3",
   "language": "python",
   "name": "python3"
  },
  "language_info": {
   "codemirror_mode": {
    "name": "ipython",
    "version": 3
   },
   "file_extension": ".py",
   "mimetype": "text/x-python",
   "name": "python",
   "nbconvert_exporter": "python",
   "pygments_lexer": "ipython3",
   "version": "3.8.3"
  }
 },
 "nbformat": 4,
 "nbformat_minor": 4
}
