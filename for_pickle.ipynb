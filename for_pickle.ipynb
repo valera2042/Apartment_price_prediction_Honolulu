{
 "cells": [
  {
   "cell_type": "code",
   "execution_count": 1,
   "metadata": {},
   "outputs": [],
   "source": [
    "# import necessary libraries\n",
    "\n",
    "import pandas as pd\n",
    "from pandas import read_csv\n",
    "from pandas.core.common import SettingWithCopyWarning\n",
    "import numpy as np\n",
    "from sklearn.model_selection import train_test_split\n",
    "from sklearn.ensemble import RandomForestRegressor\n",
    "from sklearn.preprocessing import StandardScaler"
   ]
  },
  {
   "cell_type": "code",
   "execution_count": 2,
   "metadata": {},
   "outputs": [],
   "source": [
    "df = pd.read_csv(r'C:\\Users\\valer\\Desktop\\Projects\\honolu\\for_pickle.csv')"
   ]
  },
  {
   "cell_type": "code",
   "execution_count": 3,
   "metadata": {},
   "outputs": [],
   "source": [
    "df.drop('Unnamed: 0', axis = 1, inplace = True)"
   ]
  },
  {
   "cell_type": "code",
   "execution_count": 4,
   "metadata": {},
   "outputs": [
    {
     "data": {
      "text/html": [
       "<div>\n",
       "<style scoped>\n",
       "    .dataframe tbody tr th:only-of-type {\n",
       "        vertical-align: middle;\n",
       "    }\n",
       "\n",
       "    .dataframe tbody tr th {\n",
       "        vertical-align: top;\n",
       "    }\n",
       "\n",
       "    .dataframe thead th {\n",
       "        text-align: right;\n",
       "    }\n",
       "</style>\n",
       "<table border=\"1\" class=\"dataframe\">\n",
       "  <thead>\n",
       "    <tr style=\"text-align: right;\">\n",
       "      <th></th>\n",
       "      <th>rooms*</th>\n",
       "      <th>n_area_log</th>\n",
       "      <th>n_price_log</th>\n",
       "    </tr>\n",
       "  </thead>\n",
       "  <tbody>\n",
       "    <tr>\n",
       "      <th>0</th>\n",
       "      <td>20.0</td>\n",
       "      <td>7.090077</td>\n",
       "      <td>7.824046</td>\n",
       "    </tr>\n",
       "    <tr>\n",
       "      <th>1</th>\n",
       "      <td>1.0</td>\n",
       "      <td>6.682109</td>\n",
       "      <td>7.598399</td>\n",
       "    </tr>\n",
       "    <tr>\n",
       "      <th>2</th>\n",
       "      <td>2.0</td>\n",
       "      <td>6.210600</td>\n",
       "      <td>7.492760</td>\n",
       "    </tr>\n",
       "    <tr>\n",
       "      <th>3</th>\n",
       "      <td>10.0</td>\n",
       "      <td>6.785588</td>\n",
       "      <td>7.781139</td>\n",
       "    </tr>\n",
       "    <tr>\n",
       "      <th>4</th>\n",
       "      <td>9.0</td>\n",
       "      <td>7.350516</td>\n",
       "      <td>8.715357</td>\n",
       "    </tr>\n",
       "  </tbody>\n",
       "</table>\n",
       "</div>"
      ],
      "text/plain": [
       "   rooms*  n_area_log  n_price_log\n",
       "0    20.0    7.090077     7.824046\n",
       "1     1.0    6.682109     7.598399\n",
       "2     2.0    6.210600     7.492760\n",
       "3    10.0    6.785588     7.781139\n",
       "4     9.0    7.350516     8.715357"
      ]
     },
     "execution_count": 4,
     "metadata": {},
     "output_type": "execute_result"
    }
   ],
   "source": [
    "df.head()"
   ]
  },
  {
   "cell_type": "code",
   "execution_count": 5,
   "metadata": {},
   "outputs": [
    {
     "name": "stdout",
     "output_type": "stream",
     "text": [
      "x train:  (2496, 2)\n",
      "x test:  (624, 2)\n",
      "y train:  (2496,)\n",
      "y test:  (624,)\n"
     ]
    }
   ],
   "source": [
    "# preparing data for the train_test_split\n",
    "X = df.iloc[:,:-1]\n",
    "Y = df.iloc[:, -1]\n",
    "\n",
    "# splitting data into test and train splits\n",
    "from sklearn.model_selection import train_test_split\n",
    "\n",
    "# split data into test (20%) and train (80%) parts\n",
    "X_train, X_test, y_train, y_test = train_test_split(X, Y, test_size=0.2, random_state=1)\n",
    "print(\"x train: \",X_train.shape)\n",
    "print(\"x test: \",X_test.shape)\n",
    "print(\"y train: \",y_train.shape)\n",
    "print(\"y test: \",y_test.shape)"
   ]
  },
  {
   "cell_type": "code",
   "execution_count": 6,
   "metadata": {},
   "outputs": [
    {
     "name": "stdout",
     "output_type": "stream",
     "text": [
      "X_train:  [[-0.36861045 -1.54939008]\n",
      " [-0.36861045 -1.09673648]\n",
      " [-0.36861045 -1.54939008]\n",
      " ...\n",
      " [-0.36861045 -0.83779942]\n",
      " [-0.36861045 -0.83292996]\n",
      " [-0.64210977 -2.09896494]]\n",
      "\n",
      "X_test:  [[ 0.17838817  1.00245042]\n",
      " [ 0.17838817  1.00245042]\n",
      " [-0.64210977 -0.6290425 ]\n",
      " ...\n",
      " [ 0.17838817  0.18314995]\n",
      " [-0.36861045 -1.54939008]\n",
      " [-0.36861045 -1.12445779]]\n"
     ]
    }
   ],
   "source": [
    "# features scaling\n",
    "sc = StandardScaler()\n",
    "X_train_st = sc.fit_transform(X_train)\n",
    "X_test_st = sc.transform(X_test)\n",
    "\n",
    "print('X_train: ', X_train_st)\n",
    "print()\n",
    "print('X_test: ', X_test_st)"
   ]
  },
  {
   "cell_type": "code",
   "execution_count": 11,
   "metadata": {},
   "outputs": [
    {
     "data": {
      "text/plain": [
       "array([[ 0.17838817,  1.00245042],\n",
       "       [ 0.17838817,  1.00245042],\n",
       "       [-0.64210977, -0.6290425 ],\n",
       "       ...,\n",
       "       [ 0.17838817,  0.18314995],\n",
       "       [-0.36861045, -1.54939008],\n",
       "       [-0.36861045, -1.12445779]])"
      ]
     },
     "execution_count": 11,
     "metadata": {},
     "output_type": "execute_result"
    }
   ],
   "source": [
    "X_test_st"
   ]
  },
  {
   "cell_type": "code",
   "execution_count": 7,
   "metadata": {},
   "outputs": [],
   "source": [
    "# for Random Forest with the best hyperparameters\n",
    "rf = RandomForestRegressor(n_estimators= 600,min_samples_split= 2,min_samples_leaf= 4,\n",
    "                           max_features= 'auto',max_depth= 40, bootstrap= True, random_state = 42)\n",
    "\n",
    "# fir train data to the model\n",
    "rf.fit(X_train_st, y_train)\n",
    "\n",
    "# find predictions\n",
    "predictions = rf.predict(X_test_st)"
   ]
  },
  {
   "cell_type": "code",
   "execution_count": 18,
   "metadata": {},
   "outputs": [
    {
     "data": {
      "text/plain": [
       "array([8.19854083])"
      ]
     },
     "execution_count": 18,
     "metadata": {},
     "output_type": "execute_result"
    }
   ],
   "source": [
    "rf.predict([[2,200]])"
   ]
  },
  {
   "cell_type": "code",
   "execution_count": null,
   "metadata": {},
   "outputs": [],
   "source": []
  },
  {
   "cell_type": "code",
   "execution_count": null,
   "metadata": {},
   "outputs": [],
   "source": []
  },
  {
   "cell_type": "code",
   "execution_count": null,
   "metadata": {},
   "outputs": [],
   "source": []
  },
  {
   "cell_type": "code",
   "execution_count": 8,
   "metadata": {},
   "outputs": [],
   "source": [
    "from sklearn.model_selection import cross_val_score\n",
    "\n",
    "#calculate cross validated R2\n",
    "R2 = cross_val_score(rf, X=X_train_st, y=y_train,cv=10, scoring='r2').mean()  \n",
    "\n",
    "#display adjusted R-squared\n",
    "#calculate Adj R2\n",
    "n= len(X_train)\n",
    "p = len(X_train.columns)\n",
    "adj_R2 = 1- ((1-R2) * (n-1)/(n-p-1))"
   ]
  },
  {
   "cell_type": "code",
   "execution_count": 9,
   "metadata": {},
   "outputs": [
    {
     "name": "stdout",
     "output_type": "stream",
     "text": [
      "MAE: 0.10876193968431636\n",
      "MSE: 0.059839321950595326\n",
      "RMSE: 0.24462077170713717\n",
      "R2 score = 0.65\n",
      "adjR2 score = 0.73\n"
     ]
    }
   ],
   "source": [
    "from sklearn import metrics\n",
    "print('MAE:', metrics.mean_absolute_error(y_test, predictions))\n",
    "print('MSE:', metrics.mean_squared_error(y_test, predictions))\n",
    "print('RMSE:', np.sqrt(metrics.mean_squared_error(y_test, predictions)))\n",
    "print(\"R2 score =\", round(metrics.r2_score(y_test, predictions), 2))\n",
    "print(\"adjR2 score =\", round(adj_R2, 2))"
   ]
  },
  {
   "cell_type": "code",
   "execution_count": 10,
   "metadata": {},
   "outputs": [],
   "source": [
    "import pickle\n",
    "with open('Forest_model.pkl', 'wb') as file:\n",
    "    pickle.dump(rf, file)"
   ]
  },
  {
   "cell_type": "code",
   "execution_count": null,
   "metadata": {},
   "outputs": [],
   "source": []
  }
 ],
 "metadata": {
  "kernelspec": {
   "display_name": "Python 3",
   "language": "python",
   "name": "python3"
  },
  "language_info": {
   "codemirror_mode": {
    "name": "ipython",
    "version": 3
   },
   "file_extension": ".py",
   "mimetype": "text/x-python",
   "name": "python",
   "nbconvert_exporter": "python",
   "pygments_lexer": "ipython3",
   "version": "3.8.3"
  }
 },
 "nbformat": 4,
 "nbformat_minor": 4
}
